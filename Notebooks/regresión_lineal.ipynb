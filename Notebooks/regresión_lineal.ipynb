{
  "nbformat": 4,
  "nbformat_minor": 0,
  "metadata": {
    "colab": {
      "name": "regresión lineal.ipynb",
      "provenance": []
    },
    "kernelspec": {
      "name": "python3",
      "display_name": "Python 3"
    },
    "language_info": {
      "name": "python"
    }
  },
  "cells": [
    {
      "cell_type": "markdown",
      "metadata": {
        "id": "Ei6lu0D8rIg2"
      },
      "source": [
        "#Regresión lineal"
      ]
    },
    {
      "cell_type": "code",
      "metadata": {
        "colab": {
          "base_uri": "https://localhost:8080/",
          "height": 281
        },
        "id": "Z9RfIWaKrKt_",
        "outputId": "92593cd0-e8c2-4c11-9334-f793b99fc68a"
      },
      "source": [
        "import numpy as np \n",
        "import matplotlib.pyplot as plt \n",
        "%matplotlib inline \n",
        "from sklearn.linear_model import LinearRegression #Regresión Lineal con scikit-learn\n",
        "def f(x):  # función f(x) = 0.1*x + 1.25 + 0.2*Ruido_Gaussiano\n",
        "    np.random.seed(42) # para poder reproducirlo\n",
        "    y = 0.1*x + 1.25 + 0.2*np.random.randn(x.shape[0])\n",
        "    return y\n",
        "x = np.arange(0, 20, 0.5) # generamos valores x de 0 a 20 en intervalos de 0.5\n",
        "y = f(x) # calculamos y a partir de la función que hemos generado\n",
        "# hacemos un gráfico de los datos que hemos generado\n",
        "plt.scatter(x,y,label='data', color='blue')\n",
        "plt.title('Datos');"
      ],
      "execution_count": null,
      "outputs": [
        {
          "output_type": "display_data",
          "data": {
            "image/png": "[encoded data removed]",
            "text/plain": [
              "<Figure size 432x288 with 1 Axes>"
            ]
          },
          "metadata": {
            "needs_background": "light"
          }
        }
      ]
    },
    {
      "cell_type": "code",
      "metadata": {
        "id": "Crpsa9KBrOn8"
      },
      "source": [
        ""
      ],
      "execution_count": null,
      "outputs": []
    },
    {
      "cell_type": "markdown",
      "metadata": {
        "id": "30q2AxbDtpm9"
      },
      "source": [
        "##Entrenando el modelo"
      ]
    },
    {
      "cell_type": "code",
      "metadata": {
        "colab": {
          "base_uri": "https://localhost:8080/"
        },
        "id": "q7Ja46GrtrNO",
        "outputId": "a19c1e90-4546-462b-e515-d582660504ea"
      },
      "source": [
        "# Importamos la clase de Regresión Lineal de scikit-learn\n",
        "from sklearn.linear_model import LinearRegression \n",
        "regresion_lineal = LinearRegression() # creamos una instancia de LinearRegression\n",
        "# instruimos a la regresión lineal que aprenda de los datos (x,y)\n",
        "regresion_lineal.fit(x.reshape(-1,1), y) \n",
        "# vemos los parámetros que ha estimado la regresión lineal\n",
        "print('w = ' + str(regresion_lineal.coef_) + ', b = ' + str(regresion_lineal.intercept_))\n",
        "# resultado: w = [0.09183522], b = 1.2858792525736682"
      ],
      "execution_count": null,
      "outputs": [
        {
          "output_type": "stream",
          "name": "stdout",
          "text": [
            "w = [0.09183522], b = 1.2858792525736682\n"
          ]
        }
      ]
    },
    {
      "cell_type": "code",
      "metadata": {
        "id": "UFICgXHltu0A"
      },
      "source": [
        ""
      ],
      "execution_count": null,
      "outputs": []
    },
    {
      "cell_type": "markdown",
      "metadata": {
        "id": "abTsw8kVKoJm"
      },
      "source": [
        "##Prediciendo  y = regresion_lineal(5)"
      ]
    },
    {
      "cell_type": "code",
      "metadata": {
        "colab": {
          "base_uri": "https://localhost:8080/"
        },
        "id": "0QJvqsygKqLR",
        "outputId": "e5c887a9-3c16-4c06-e70a-7fb32679dc40"
      },
      "source": [
        "nuevo_x = np.array(5)\n",
        "prediccion = regresion_lineal.predict(nuevo_x.reshape(-1,1))\n",
        "print(prediccion)\n"
      ],
      "execution_count": null,
      "outputs": [
        {
          "output_type": "stream",
          "name": "stdout",
          "text": [
            "[1.74505534]\n"
          ]
        }
      ]
    },
    {
      "cell_type": "markdown",
      "metadata": {
        "id": "Jr7Z_zcTMe7i"
      },
      "source": [
        "##Evaluando la calidad de la regresión lineal"
      ]
    },
    {
      "cell_type": "markdown",
      "metadata": {
        "id": "ldwmJULlMiVF"
      },
      "source": [
        "###Error Cuadrático Medio"
      ]
    },
    {
      "cell_type": "code",
      "metadata": {
        "colab": {
          "base_uri": "https://localhost:8080/"
        },
        "id": "aZtA4oNaMja4",
        "outputId": "a537442c-b020-4ea4-824e-dca5a0313e4e"
      },
      "source": [
        "# importamos el cálculo del error cuadrático medio (MSE)\n",
        "from sklearn.metrics import mean_squared_error\n",
        "# Predecimos los valores y para los datos usados en el entrenamiento\n",
        "prediccion_entrenamiento = regresion_lineal.predict(x.reshape(-1,1))\n",
        "# Calculamos el Error Cuadrático Medio (MSE = Mean Squared Error)\n",
        "mse = mean_squared_error(y_true = y, y_pred = prediccion_entrenamiento)\n",
        "# La raíz cuadrada del MSE es el RMSE\n",
        "rmse = np.sqrt(mse)\n",
        "print('Error Cuadrático Medio (MSE) = ' + str(mse))\n",
        "print('Raíz del Error Cuadrático Medio (RMSE) = ' + str(rmse))"
      ],
      "execution_count": null,
      "outputs": [
        {
          "output_type": "stream",
          "name": "stdout",
          "text": [
            "Error Cuadrático Medio (MSE) = 0.03318522012927899\n",
            "Raíz del Error Cuadrático Medio (RMSE) = 0.18216810952875093\n"
          ]
        }
      ]
    },
    {
      "cell_type": "markdown",
      "metadata": {
        "id": "C7KHHvueMtzr"
      },
      "source": [
        "###Coeficiente de determinación R2"
      ]
    },
    {
      "cell_type": "code",
      "metadata": {
        "colab": {
          "base_uri": "https://localhost:8080/"
        },
        "id": "jYm7fjQnMuz2",
        "outputId": "27940924-c853-41aa-f132-ebf1611ad0af"
      },
      "source": [
        "# calculamos el coeficiente de determinación R2\n",
        "r2 = regresion_lineal.score(x.reshape(-1,1), y)\n",
        "print('Coeficiente de Determinación R2 = ' + str(r2))"
      ],
      "execution_count": null,
      "outputs": [
        {
          "output_type": "stream",
          "name": "stdout",
          "text": [
            "Coeficiente de Determinación R2 = 0.8943593637683118\n"
          ]
        }
      ]
    },
    {
      "cell_type": "code",
      "metadata": {
        "id": "3q0Pi93AMyEr"
      },
      "source": [
        ""
      ],
      "execution_count": null,
      "outputs": []
    },
    {
      "cell_type": "markdown",
      "metadata": {
        "id": "3hlMdWSJM0fi"
      },
      "source": [
        "##Visualización"
      ]
    },
    {
      "cell_type": "code",
      "metadata": {
        "colab": {
          "base_uri": "https://localhost:8080/",
          "height": 298
        },
        "id": "KHwtUos7M1pW",
        "outputId": "ac5c1626-e4bb-4ca6-c2fc-dad3375ab798"
      },
      "source": [
        "import numpy as np \n",
        "import matplotlib.pyplot as plt \n",
        "%matplotlib inline \n",
        "from sklearn.linear_model import LinearRegression #Regresión Lineal con scikit-learn\n",
        "def f(x):  # función f(x) = 0.1*x + 1.25 + 0.2*Ruido_Gaussiano\n",
        "    np.random.seed(42) # para poder reproducirlo\n",
        "    y = 0.1*x + 1.25 + 0.2*np.random.randn(x.shape[0])\n",
        "    return y\n",
        "x = np.arange(0, 20, 0.5) # generamos valores x de 0 a 20 en intervalos de 0.5\n",
        "y = f(x) # calculamos y a partir de la función que hemos generado\n",
        "\n",
        "\n",
        "# hacemos un gráfico de los datos que hemos generado\n",
        "plt.scatter(x,y,label='data', color='blue')\n",
        "plt.title('Datos');\n",
        "\n",
        "\n",
        "pred = regresion_lineal.predict(x.reshape(-1,1))\n",
        "plt.plot(x,pred,color='red')\n",
        "\n",
        "\n"
      ],
      "execution_count": null,
      "outputs": [
        {
          "output_type": "execute_result",
          "data": {
            "text/plain": [
              "[<matplotlib.lines.Line2D at 0x7f17a8746710>]"
            ]
          },
          "metadata": {},
          "execution_count": 20
        },
        {
          "output_type": "display_data",
          "data": {
            "image/png": "[encoded data removed]",
            "text/plain": [
              "<Figure size 432x288 with 1 Axes>"
            ]
          },
          "metadata": {
            "needs_background": "light"
          }
        }
      ]
    },
    {
      "cell_type": "code",
      "metadata": {
        "id": "m6jqEtVjNUbH"
      },
      "source": [
        ""
      ],
      "execution_count": null,
      "outputs": []
    }
  ]
}